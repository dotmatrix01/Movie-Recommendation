{
 "cells": [
  {
   "cell_type": "markdown",
   "id": "d8f15cab",
   "metadata": {
    "papermill": {
     "duration": 0.008783,
     "end_time": "2022-08-14T05:58:41.481605",
     "exception": false,
     "start_time": "2022-08-14T05:58:41.472822",
     "status": "completed"
    },
    "tags": []
   },
   "source": [
    "## Importing Libraries"
   ]
  },
  {
   "cell_type": "code",
   "execution_count": 1,
   "id": "da664d5a",
   "metadata": {
    "execution": {
     "iopub.execute_input": "2022-08-14T05:58:41.497509Z",
     "iopub.status.busy": "2022-08-14T05:58:41.497038Z",
     "iopub.status.idle": "2022-08-14T05:58:42.539593Z",
     "shell.execute_reply": "2022-08-14T05:58:42.538450Z"
    },
    "papermill": {
     "duration": 1.053784,
     "end_time": "2022-08-14T05:58:42.542479",
     "exception": false,
     "start_time": "2022-08-14T05:58:41.488695",
     "status": "completed"
    },
    "tags": []
   },
   "outputs": [],
   "source": [
    "import numpy as numpy\n",
    "import pandas as pd\n",
    "import difflib #to get the closet match of some value\n",
    "from sklearn.feature_extraction.text import TfidfVectorizer #convert textual data into numerical data(feature vector)\n",
    "from sklearn.metrics.pairwise import  cosine_similarity "
   ]
  },
  {
   "cell_type": "markdown",
   "id": "00c10cc4",
   "metadata": {
    "papermill": {
     "duration": 0.006664,
     "end_time": "2022-08-14T05:58:42.556274",
     "exception": false,
     "start_time": "2022-08-14T05:58:42.549610",
     "status": "completed"
    },
    "tags": []
   },
   "source": [
    "## Importing Dataset"
   ]
  },
  {
   "cell_type": "code",
   "execution_count": 2,
   "id": "c9193cd1",
   "metadata": {
    "execution": {
     "iopub.execute_input": "2022-08-14T05:58:42.572306Z",
     "iopub.status.busy": "2022-08-14T05:58:42.571195Z",
     "iopub.status.idle": "2022-08-14T05:58:48.502167Z",
     "shell.execute_reply": "2022-08-14T05:58:48.501281Z"
    },
    "papermill": {
     "duration": 5.941701,
     "end_time": "2022-08-14T05:58:48.504767",
     "exception": false,
     "start_time": "2022-08-14T05:58:42.563066",
     "status": "completed"
    },
    "tags": []
   },
   "outputs": [
    {
     "name": "stderr",
     "output_type": "stream",
     "text": [
      "/opt/conda/lib/python3.7/site-packages/IPython/core/interactiveshell.py:3552: DtypeWarning: Columns (10) have mixed types.Specify dtype option on import or set low_memory=False.\n",
      "  exec(code_obj, self.user_global_ns, self.user_ns)\n"
     ]
    }
   ],
   "source": [
    "movies_data=pd.read_csv(\"/kaggle/input/the-movies-dataset/movies_metadata.csv\")\n",
    "movie_keywords = pd.read_csv(\"../input/the-movies-dataset/keywords.csv\")\n",
    "movie_credits = pd.read_csv(\"../input/the-movies-dataset/credits.csv\")\n"
   ]
  },
  {
   "cell_type": "code",
   "execution_count": 3,
   "id": "71203e60",
   "metadata": {
    "execution": {
     "iopub.execute_input": "2022-08-14T05:58:48.520880Z",
     "iopub.status.busy": "2022-08-14T05:58:48.520041Z",
     "iopub.status.idle": "2022-08-14T05:58:48.560380Z",
     "shell.execute_reply": "2022-08-14T05:58:48.559320Z"
    },
    "papermill": {
     "duration": 0.050993,
     "end_time": "2022-08-14T05:58:48.563029",
     "exception": false,
     "start_time": "2022-08-14T05:58:48.512036",
     "status": "completed"
    },
    "tags": []
   },
   "outputs": [
    {
     "data": {
      "text/html": [
       "<div>\n",
       "<style scoped>\n",
       "    .dataframe tbody tr th:only-of-type {\n",
       "        vertical-align: middle;\n",
       "    }\n",
       "\n",
       "    .dataframe tbody tr th {\n",
       "        vertical-align: top;\n",
       "    }\n",
       "\n",
       "    .dataframe thead th {\n",
       "        text-align: right;\n",
       "    }\n",
       "</style>\n",
       "<table border=\"1\" class=\"dataframe\">\n",
       "  <thead>\n",
       "    <tr style=\"text-align: right;\">\n",
       "      <th></th>\n",
       "      <th>adult</th>\n",
       "      <th>belongs_to_collection</th>\n",
       "      <th>budget</th>\n",
       "      <th>genres</th>\n",
       "      <th>homepage</th>\n",
       "      <th>id</th>\n",
       "      <th>imdb_id</th>\n",
       "      <th>original_language</th>\n",
       "      <th>original_title</th>\n",
       "      <th>overview</th>\n",
       "      <th>...</th>\n",
       "      <th>release_date</th>\n",
       "      <th>revenue</th>\n",
       "      <th>runtime</th>\n",
       "      <th>spoken_languages</th>\n",
       "      <th>status</th>\n",
       "      <th>tagline</th>\n",
       "      <th>title</th>\n",
       "      <th>video</th>\n",
       "      <th>vote_average</th>\n",
       "      <th>vote_count</th>\n",
       "    </tr>\n",
       "  </thead>\n",
       "  <tbody>\n",
       "    <tr>\n",
       "      <th>0</th>\n",
       "      <td>False</td>\n",
       "      <td>{'id': 10194, 'name': 'Toy Story Collection', ...</td>\n",
       "      <td>30000000</td>\n",
       "      <td>[{'id': 16, 'name': 'Animation'}, {'id': 35, '...</td>\n",
       "      <td>http://toystory.disney.com/toy-story</td>\n",
       "      <td>862</td>\n",
       "      <td>tt0114709</td>\n",
       "      <td>en</td>\n",
       "      <td>Toy Story</td>\n",
       "      <td>Led by Woody, Andy's toys live happily in his ...</td>\n",
       "      <td>...</td>\n",
       "      <td>1995-10-30</td>\n",
       "      <td>373554033.0</td>\n",
       "      <td>81.0</td>\n",
       "      <td>[{'iso_639_1': 'en', 'name': 'English'}]</td>\n",
       "      <td>Released</td>\n",
       "      <td>NaN</td>\n",
       "      <td>Toy Story</td>\n",
       "      <td>False</td>\n",
       "      <td>7.7</td>\n",
       "      <td>5415.0</td>\n",
       "    </tr>\n",
       "    <tr>\n",
       "      <th>1</th>\n",
       "      <td>False</td>\n",
       "      <td>NaN</td>\n",
       "      <td>65000000</td>\n",
       "      <td>[{'id': 12, 'name': 'Adventure'}, {'id': 14, '...</td>\n",
       "      <td>NaN</td>\n",
       "      <td>8844</td>\n",
       "      <td>tt0113497</td>\n",
       "      <td>en</td>\n",
       "      <td>Jumanji</td>\n",
       "      <td>When siblings Judy and Peter discover an encha...</td>\n",
       "      <td>...</td>\n",
       "      <td>1995-12-15</td>\n",
       "      <td>262797249.0</td>\n",
       "      <td>104.0</td>\n",
       "      <td>[{'iso_639_1': 'en', 'name': 'English'}, {'iso...</td>\n",
       "      <td>Released</td>\n",
       "      <td>Roll the dice and unleash the excitement!</td>\n",
       "      <td>Jumanji</td>\n",
       "      <td>False</td>\n",
       "      <td>6.9</td>\n",
       "      <td>2413.0</td>\n",
       "    </tr>\n",
       "    <tr>\n",
       "      <th>2</th>\n",
       "      <td>False</td>\n",
       "      <td>{'id': 119050, 'name': 'Grumpy Old Men Collect...</td>\n",
       "      <td>0</td>\n",
       "      <td>[{'id': 10749, 'name': 'Romance'}, {'id': 35, ...</td>\n",
       "      <td>NaN</td>\n",
       "      <td>15602</td>\n",
       "      <td>tt0113228</td>\n",
       "      <td>en</td>\n",
       "      <td>Grumpier Old Men</td>\n",
       "      <td>A family wedding reignites the ancient feud be...</td>\n",
       "      <td>...</td>\n",
       "      <td>1995-12-22</td>\n",
       "      <td>0.0</td>\n",
       "      <td>101.0</td>\n",
       "      <td>[{'iso_639_1': 'en', 'name': 'English'}]</td>\n",
       "      <td>Released</td>\n",
       "      <td>Still Yelling. Still Fighting. Still Ready for...</td>\n",
       "      <td>Grumpier Old Men</td>\n",
       "      <td>False</td>\n",
       "      <td>6.5</td>\n",
       "      <td>92.0</td>\n",
       "    </tr>\n",
       "    <tr>\n",
       "      <th>3</th>\n",
       "      <td>False</td>\n",
       "      <td>NaN</td>\n",
       "      <td>16000000</td>\n",
       "      <td>[{'id': 35, 'name': 'Comedy'}, {'id': 18, 'nam...</td>\n",
       "      <td>NaN</td>\n",
       "      <td>31357</td>\n",
       "      <td>tt0114885</td>\n",
       "      <td>en</td>\n",
       "      <td>Waiting to Exhale</td>\n",
       "      <td>Cheated on, mistreated and stepped on, the wom...</td>\n",
       "      <td>...</td>\n",
       "      <td>1995-12-22</td>\n",
       "      <td>81452156.0</td>\n",
       "      <td>127.0</td>\n",
       "      <td>[{'iso_639_1': 'en', 'name': 'English'}]</td>\n",
       "      <td>Released</td>\n",
       "      <td>Friends are the people who let you be yourself...</td>\n",
       "      <td>Waiting to Exhale</td>\n",
       "      <td>False</td>\n",
       "      <td>6.1</td>\n",
       "      <td>34.0</td>\n",
       "    </tr>\n",
       "    <tr>\n",
       "      <th>4</th>\n",
       "      <td>False</td>\n",
       "      <td>{'id': 96871, 'name': 'Father of the Bride Col...</td>\n",
       "      <td>0</td>\n",
       "      <td>[{'id': 35, 'name': 'Comedy'}]</td>\n",
       "      <td>NaN</td>\n",
       "      <td>11862</td>\n",
       "      <td>tt0113041</td>\n",
       "      <td>en</td>\n",
       "      <td>Father of the Bride Part II</td>\n",
       "      <td>Just when George Banks has recovered from his ...</td>\n",
       "      <td>...</td>\n",
       "      <td>1995-02-10</td>\n",
       "      <td>76578911.0</td>\n",
       "      <td>106.0</td>\n",
       "      <td>[{'iso_639_1': 'en', 'name': 'English'}]</td>\n",
       "      <td>Released</td>\n",
       "      <td>Just When His World Is Back To Normal... He's ...</td>\n",
       "      <td>Father of the Bride Part II</td>\n",
       "      <td>False</td>\n",
       "      <td>5.7</td>\n",
       "      <td>173.0</td>\n",
       "    </tr>\n",
       "  </tbody>\n",
       "</table>\n",
       "<p>5 rows × 24 columns</p>\n",
       "</div>"
      ],
      "text/plain": [
       "   adult                              belongs_to_collection    budget  \\\n",
       "0  False  {'id': 10194, 'name': 'Toy Story Collection', ...  30000000   \n",
       "1  False                                                NaN  65000000   \n",
       "2  False  {'id': 119050, 'name': 'Grumpy Old Men Collect...         0   \n",
       "3  False                                                NaN  16000000   \n",
       "4  False  {'id': 96871, 'name': 'Father of the Bride Col...         0   \n",
       "\n",
       "                                              genres  \\\n",
       "0  [{'id': 16, 'name': 'Animation'}, {'id': 35, '...   \n",
       "1  [{'id': 12, 'name': 'Adventure'}, {'id': 14, '...   \n",
       "2  [{'id': 10749, 'name': 'Romance'}, {'id': 35, ...   \n",
       "3  [{'id': 35, 'name': 'Comedy'}, {'id': 18, 'nam...   \n",
       "4                     [{'id': 35, 'name': 'Comedy'}]   \n",
       "\n",
       "                               homepage     id    imdb_id original_language  \\\n",
       "0  http://toystory.disney.com/toy-story    862  tt0114709                en   \n",
       "1                                   NaN   8844  tt0113497                en   \n",
       "2                                   NaN  15602  tt0113228                en   \n",
       "3                                   NaN  31357  tt0114885                en   \n",
       "4                                   NaN  11862  tt0113041                en   \n",
       "\n",
       "                original_title  \\\n",
       "0                    Toy Story   \n",
       "1                      Jumanji   \n",
       "2             Grumpier Old Men   \n",
       "3            Waiting to Exhale   \n",
       "4  Father of the Bride Part II   \n",
       "\n",
       "                                            overview  ... release_date  \\\n",
       "0  Led by Woody, Andy's toys live happily in his ...  ...   1995-10-30   \n",
       "1  When siblings Judy and Peter discover an encha...  ...   1995-12-15   \n",
       "2  A family wedding reignites the ancient feud be...  ...   1995-12-22   \n",
       "3  Cheated on, mistreated and stepped on, the wom...  ...   1995-12-22   \n",
       "4  Just when George Banks has recovered from his ...  ...   1995-02-10   \n",
       "\n",
       "       revenue runtime                                   spoken_languages  \\\n",
       "0  373554033.0    81.0           [{'iso_639_1': 'en', 'name': 'English'}]   \n",
       "1  262797249.0   104.0  [{'iso_639_1': 'en', 'name': 'English'}, {'iso...   \n",
       "2          0.0   101.0           [{'iso_639_1': 'en', 'name': 'English'}]   \n",
       "3   81452156.0   127.0           [{'iso_639_1': 'en', 'name': 'English'}]   \n",
       "4   76578911.0   106.0           [{'iso_639_1': 'en', 'name': 'English'}]   \n",
       "\n",
       "     status                                            tagline  \\\n",
       "0  Released                                                NaN   \n",
       "1  Released          Roll the dice and unleash the excitement!   \n",
       "2  Released  Still Yelling. Still Fighting. Still Ready for...   \n",
       "3  Released  Friends are the people who let you be yourself...   \n",
       "4  Released  Just When His World Is Back To Normal... He's ...   \n",
       "\n",
       "                         title  video vote_average vote_count  \n",
       "0                    Toy Story  False          7.7     5415.0  \n",
       "1                      Jumanji  False          6.9     2413.0  \n",
       "2             Grumpier Old Men  False          6.5       92.0  \n",
       "3            Waiting to Exhale  False          6.1       34.0  \n",
       "4  Father of the Bride Part II  False          5.7      173.0  \n",
       "\n",
       "[5 rows x 24 columns]"
      ]
     },
     "execution_count": 3,
     "metadata": {},
     "output_type": "execute_result"
    }
   ],
   "source": [
    "movies_data.head()"
   ]
  },
  {
   "cell_type": "code",
   "execution_count": 4,
   "id": "f166d659",
   "metadata": {
    "execution": {
     "iopub.execute_input": "2022-08-14T05:58:48.579792Z",
     "iopub.status.busy": "2022-08-14T05:58:48.579026Z",
     "iopub.status.idle": "2022-08-14T05:58:48.588666Z",
     "shell.execute_reply": "2022-08-14T05:58:48.587614Z"
    },
    "papermill": {
     "duration": 0.020785,
     "end_time": "2022-08-14T05:58:48.591313",
     "exception": false,
     "start_time": "2022-08-14T05:58:48.570528",
     "status": "completed"
    },
    "tags": []
   },
   "outputs": [
    {
     "data": {
      "text/html": [
       "<div>\n",
       "<style scoped>\n",
       "    .dataframe tbody tr th:only-of-type {\n",
       "        vertical-align: middle;\n",
       "    }\n",
       "\n",
       "    .dataframe tbody tr th {\n",
       "        vertical-align: top;\n",
       "    }\n",
       "\n",
       "    .dataframe thead th {\n",
       "        text-align: right;\n",
       "    }\n",
       "</style>\n",
       "<table border=\"1\" class=\"dataframe\">\n",
       "  <thead>\n",
       "    <tr style=\"text-align: right;\">\n",
       "      <th></th>\n",
       "      <th>id</th>\n",
       "      <th>keywords</th>\n",
       "    </tr>\n",
       "  </thead>\n",
       "  <tbody>\n",
       "    <tr>\n",
       "      <th>0</th>\n",
       "      <td>862</td>\n",
       "      <td>[{'id': 931, 'name': 'jealousy'}, {'id': 4290,...</td>\n",
       "    </tr>\n",
       "    <tr>\n",
       "      <th>1</th>\n",
       "      <td>8844</td>\n",
       "      <td>[{'id': 10090, 'name': 'board game'}, {'id': 1...</td>\n",
       "    </tr>\n",
       "    <tr>\n",
       "      <th>2</th>\n",
       "      <td>15602</td>\n",
       "      <td>[{'id': 1495, 'name': 'fishing'}, {'id': 12392...</td>\n",
       "    </tr>\n",
       "    <tr>\n",
       "      <th>3</th>\n",
       "      <td>31357</td>\n",
       "      <td>[{'id': 818, 'name': 'based on novel'}, {'id':...</td>\n",
       "    </tr>\n",
       "    <tr>\n",
       "      <th>4</th>\n",
       "      <td>11862</td>\n",
       "      <td>[{'id': 1009, 'name': 'baby'}, {'id': 1599, 'n...</td>\n",
       "    </tr>\n",
       "  </tbody>\n",
       "</table>\n",
       "</div>"
      ],
      "text/plain": [
       "      id                                           keywords\n",
       "0    862  [{'id': 931, 'name': 'jealousy'}, {'id': 4290,...\n",
       "1   8844  [{'id': 10090, 'name': 'board game'}, {'id': 1...\n",
       "2  15602  [{'id': 1495, 'name': 'fishing'}, {'id': 12392...\n",
       "3  31357  [{'id': 818, 'name': 'based on novel'}, {'id':...\n",
       "4  11862  [{'id': 1009, 'name': 'baby'}, {'id': 1599, 'n..."
      ]
     },
     "execution_count": 4,
     "metadata": {},
     "output_type": "execute_result"
    }
   ],
   "source": [
    "movie_keywords.head()"
   ]
  },
  {
   "cell_type": "code",
   "execution_count": 5,
   "id": "d071f129",
   "metadata": {
    "execution": {
     "iopub.execute_input": "2022-08-14T05:58:48.607991Z",
     "iopub.status.busy": "2022-08-14T05:58:48.607407Z",
     "iopub.status.idle": "2022-08-14T05:58:48.618278Z",
     "shell.execute_reply": "2022-08-14T05:58:48.617198Z"
    },
    "papermill": {
     "duration": 0.021533,
     "end_time": "2022-08-14T05:58:48.620455",
     "exception": false,
     "start_time": "2022-08-14T05:58:48.598922",
     "status": "completed"
    },
    "tags": []
   },
   "outputs": [
    {
     "data": {
      "text/html": [
       "<div>\n",
       "<style scoped>\n",
       "    .dataframe tbody tr th:only-of-type {\n",
       "        vertical-align: middle;\n",
       "    }\n",
       "\n",
       "    .dataframe tbody tr th {\n",
       "        vertical-align: top;\n",
       "    }\n",
       "\n",
       "    .dataframe thead th {\n",
       "        text-align: right;\n",
       "    }\n",
       "</style>\n",
       "<table border=\"1\" class=\"dataframe\">\n",
       "  <thead>\n",
       "    <tr style=\"text-align: right;\">\n",
       "      <th></th>\n",
       "      <th>cast</th>\n",
       "      <th>crew</th>\n",
       "      <th>id</th>\n",
       "    </tr>\n",
       "  </thead>\n",
       "  <tbody>\n",
       "    <tr>\n",
       "      <th>0</th>\n",
       "      <td>[{'cast_id': 14, 'character': 'Woody (voice)',...</td>\n",
       "      <td>[{'credit_id': '52fe4284c3a36847f8024f49', 'de...</td>\n",
       "      <td>862</td>\n",
       "    </tr>\n",
       "    <tr>\n",
       "      <th>1</th>\n",
       "      <td>[{'cast_id': 1, 'character': 'Alan Parrish', '...</td>\n",
       "      <td>[{'credit_id': '52fe44bfc3a36847f80a7cd1', 'de...</td>\n",
       "      <td>8844</td>\n",
       "    </tr>\n",
       "    <tr>\n",
       "      <th>2</th>\n",
       "      <td>[{'cast_id': 2, 'character': 'Max Goldman', 'c...</td>\n",
       "      <td>[{'credit_id': '52fe466a9251416c75077a89', 'de...</td>\n",
       "      <td>15602</td>\n",
       "    </tr>\n",
       "    <tr>\n",
       "      <th>3</th>\n",
       "      <td>[{'cast_id': 1, 'character': \"Savannah 'Vannah...</td>\n",
       "      <td>[{'credit_id': '52fe44779251416c91011acb', 'de...</td>\n",
       "      <td>31357</td>\n",
       "    </tr>\n",
       "    <tr>\n",
       "      <th>4</th>\n",
       "      <td>[{'cast_id': 1, 'character': 'George Banks', '...</td>\n",
       "      <td>[{'credit_id': '52fe44959251416c75039ed7', 'de...</td>\n",
       "      <td>11862</td>\n",
       "    </tr>\n",
       "  </tbody>\n",
       "</table>\n",
       "</div>"
      ],
      "text/plain": [
       "                                                cast  \\\n",
       "0  [{'cast_id': 14, 'character': 'Woody (voice)',...   \n",
       "1  [{'cast_id': 1, 'character': 'Alan Parrish', '...   \n",
       "2  [{'cast_id': 2, 'character': 'Max Goldman', 'c...   \n",
       "3  [{'cast_id': 1, 'character': \"Savannah 'Vannah...   \n",
       "4  [{'cast_id': 1, 'character': 'George Banks', '...   \n",
       "\n",
       "                                                crew     id  \n",
       "0  [{'credit_id': '52fe4284c3a36847f8024f49', 'de...    862  \n",
       "1  [{'credit_id': '52fe44bfc3a36847f80a7cd1', 'de...   8844  \n",
       "2  [{'credit_id': '52fe466a9251416c75077a89', 'de...  15602  \n",
       "3  [{'credit_id': '52fe44779251416c91011acb', 'de...  31357  \n",
       "4  [{'credit_id': '52fe44959251416c75039ed7', 'de...  11862  "
      ]
     },
     "execution_count": 5,
     "metadata": {},
     "output_type": "execute_result"
    }
   ],
   "source": [
    "movie_credits.head()"
   ]
  },
  {
   "cell_type": "code",
   "execution_count": 6,
   "id": "b2685f2b",
   "metadata": {
    "execution": {
     "iopub.execute_input": "2022-08-14T05:58:48.637233Z",
     "iopub.status.busy": "2022-08-14T05:58:48.636649Z",
     "iopub.status.idle": "2022-08-14T05:58:48.650852Z",
     "shell.execute_reply": "2022-08-14T05:58:48.649954Z"
    },
    "papermill": {
     "duration": 0.025111,
     "end_time": "2022-08-14T05:58:48.653172",
     "exception": false,
     "start_time": "2022-08-14T05:58:48.628061",
     "status": "completed"
    },
    "tags": []
   },
   "outputs": [],
   "source": [
    "movies_data = movies_data[movies_data['vote_count']>=55]"
   ]
  },
  {
   "cell_type": "code",
   "execution_count": 7,
   "id": "7277a5c7",
   "metadata": {
    "execution": {
     "iopub.execute_input": "2022-08-14T05:58:48.670051Z",
     "iopub.status.busy": "2022-08-14T05:58:48.669708Z",
     "iopub.status.idle": "2022-08-14T05:58:48.678213Z",
     "shell.execute_reply": "2022-08-14T05:58:48.677179Z"
    },
    "papermill": {
     "duration": 0.019553,
     "end_time": "2022-08-14T05:58:48.680473",
     "exception": false,
     "start_time": "2022-08-14T05:58:48.660920",
     "status": "completed"
    },
    "tags": []
   },
   "outputs": [],
   "source": [
    "movie_credits = movie_credits[['id','cast']]"
   ]
  },
  {
   "cell_type": "code",
   "execution_count": 8,
   "id": "065bc7f7",
   "metadata": {
    "execution": {
     "iopub.execute_input": "2022-08-14T05:58:48.698291Z",
     "iopub.status.busy": "2022-08-14T05:58:48.697903Z",
     "iopub.status.idle": "2022-08-14T05:58:48.712107Z",
     "shell.execute_reply": "2022-08-14T05:58:48.710981Z"
    },
    "papermill": {
     "duration": 0.025446,
     "end_time": "2022-08-14T05:58:48.714385",
     "exception": false,
     "start_time": "2022-08-14T05:58:48.688939",
     "status": "completed"
    },
    "tags": []
   },
   "outputs": [],
   "source": [
    "# Removing the records for which the id is not available\n",
    "movies_data = movies_data[movies_data['id'].str.isnumeric()]"
   ]
  },
  {
   "cell_type": "code",
   "execution_count": 9,
   "id": "57a1a78d",
   "metadata": {
    "execution": {
     "iopub.execute_input": "2022-08-14T05:58:48.731658Z",
     "iopub.status.busy": "2022-08-14T05:58:48.731259Z",
     "iopub.status.idle": "2022-08-14T05:58:48.800737Z",
     "shell.execute_reply": "2022-08-14T05:58:48.799467Z"
    },
    "papermill": {
     "duration": 0.081029,
     "end_time": "2022-08-14T05:58:48.803318",
     "exception": false,
     "start_time": "2022-08-14T05:58:48.722289",
     "status": "completed"
    },
    "tags": []
   },
   "outputs": [],
   "source": [
    "movies_data['id'] = movies_data['id'].astype(int)\n",
    "df = pd.merge(movies_data, movie_keywords, on='id', how='left')\n",
    "df.reset_index(inplace=True, drop=True)\n",
    "df = pd.merge(df, movie_credits, on='id', how='left')\n",
    "df.reset_index(inplace=True, drop=True)"
   ]
  },
  {
   "cell_type": "code",
   "execution_count": 10,
   "id": "48ff4c68",
   "metadata": {
    "execution": {
     "iopub.execute_input": "2022-08-14T05:58:48.820536Z",
     "iopub.status.busy": "2022-08-14T05:58:48.820144Z",
     "iopub.status.idle": "2022-08-14T05:58:48.844877Z",
     "shell.execute_reply": "2022-08-14T05:58:48.844078Z"
    },
    "papermill": {
     "duration": 0.035722,
     "end_time": "2022-08-14T05:58:48.846925",
     "exception": false,
     "start_time": "2022-08-14T05:58:48.811203",
     "status": "completed"
    },
    "tags": []
   },
   "outputs": [
    {
     "data": {
      "text/html": [
       "<div>\n",
       "<style scoped>\n",
       "    .dataframe tbody tr th:only-of-type {\n",
       "        vertical-align: middle;\n",
       "    }\n",
       "\n",
       "    .dataframe tbody tr th {\n",
       "        vertical-align: top;\n",
       "    }\n",
       "\n",
       "    .dataframe thead th {\n",
       "        text-align: right;\n",
       "    }\n",
       "</style>\n",
       "<table border=\"1\" class=\"dataframe\">\n",
       "  <thead>\n",
       "    <tr style=\"text-align: right;\">\n",
       "      <th></th>\n",
       "      <th>adult</th>\n",
       "      <th>belongs_to_collection</th>\n",
       "      <th>budget</th>\n",
       "      <th>genres</th>\n",
       "      <th>homepage</th>\n",
       "      <th>id</th>\n",
       "      <th>imdb_id</th>\n",
       "      <th>original_language</th>\n",
       "      <th>original_title</th>\n",
       "      <th>overview</th>\n",
       "      <th>...</th>\n",
       "      <th>runtime</th>\n",
       "      <th>spoken_languages</th>\n",
       "      <th>status</th>\n",
       "      <th>tagline</th>\n",
       "      <th>title</th>\n",
       "      <th>video</th>\n",
       "      <th>vote_average</th>\n",
       "      <th>vote_count</th>\n",
       "      <th>keywords</th>\n",
       "      <th>cast</th>\n",
       "    </tr>\n",
       "  </thead>\n",
       "  <tbody>\n",
       "    <tr>\n",
       "      <th>0</th>\n",
       "      <td>False</td>\n",
       "      <td>{'id': 10194, 'name': 'Toy Story Collection', ...</td>\n",
       "      <td>30000000</td>\n",
       "      <td>[{'id': 16, 'name': 'Animation'}, {'id': 35, '...</td>\n",
       "      <td>http://toystory.disney.com/toy-story</td>\n",
       "      <td>862</td>\n",
       "      <td>tt0114709</td>\n",
       "      <td>en</td>\n",
       "      <td>Toy Story</td>\n",
       "      <td>Led by Woody, Andy's toys live happily in his ...</td>\n",
       "      <td>...</td>\n",
       "      <td>81.0</td>\n",
       "      <td>[{'iso_639_1': 'en', 'name': 'English'}]</td>\n",
       "      <td>Released</td>\n",
       "      <td>NaN</td>\n",
       "      <td>Toy Story</td>\n",
       "      <td>False</td>\n",
       "      <td>7.7</td>\n",
       "      <td>5415.0</td>\n",
       "      <td>[{'id': 931, 'name': 'jealousy'}, {'id': 4290,...</td>\n",
       "      <td>[{'cast_id': 14, 'character': 'Woody (voice)',...</td>\n",
       "    </tr>\n",
       "    <tr>\n",
       "      <th>1</th>\n",
       "      <td>False</td>\n",
       "      <td>NaN</td>\n",
       "      <td>65000000</td>\n",
       "      <td>[{'id': 12, 'name': 'Adventure'}, {'id': 14, '...</td>\n",
       "      <td>NaN</td>\n",
       "      <td>8844</td>\n",
       "      <td>tt0113497</td>\n",
       "      <td>en</td>\n",
       "      <td>Jumanji</td>\n",
       "      <td>When siblings Judy and Peter discover an encha...</td>\n",
       "      <td>...</td>\n",
       "      <td>104.0</td>\n",
       "      <td>[{'iso_639_1': 'en', 'name': 'English'}, {'iso...</td>\n",
       "      <td>Released</td>\n",
       "      <td>Roll the dice and unleash the excitement!</td>\n",
       "      <td>Jumanji</td>\n",
       "      <td>False</td>\n",
       "      <td>6.9</td>\n",
       "      <td>2413.0</td>\n",
       "      <td>[{'id': 10090, 'name': 'board game'}, {'id': 1...</td>\n",
       "      <td>[{'cast_id': 1, 'character': 'Alan Parrish', '...</td>\n",
       "    </tr>\n",
       "    <tr>\n",
       "      <th>2</th>\n",
       "      <td>False</td>\n",
       "      <td>{'id': 119050, 'name': 'Grumpy Old Men Collect...</td>\n",
       "      <td>0</td>\n",
       "      <td>[{'id': 10749, 'name': 'Romance'}, {'id': 35, ...</td>\n",
       "      <td>NaN</td>\n",
       "      <td>15602</td>\n",
       "      <td>tt0113228</td>\n",
       "      <td>en</td>\n",
       "      <td>Grumpier Old Men</td>\n",
       "      <td>A family wedding reignites the ancient feud be...</td>\n",
       "      <td>...</td>\n",
       "      <td>101.0</td>\n",
       "      <td>[{'iso_639_1': 'en', 'name': 'English'}]</td>\n",
       "      <td>Released</td>\n",
       "      <td>Still Yelling. Still Fighting. Still Ready for...</td>\n",
       "      <td>Grumpier Old Men</td>\n",
       "      <td>False</td>\n",
       "      <td>6.5</td>\n",
       "      <td>92.0</td>\n",
       "      <td>[{'id': 1495, 'name': 'fishing'}, {'id': 12392...</td>\n",
       "      <td>[{'cast_id': 2, 'character': 'Max Goldman', 'c...</td>\n",
       "    </tr>\n",
       "    <tr>\n",
       "      <th>3</th>\n",
       "      <td>False</td>\n",
       "      <td>{'id': 96871, 'name': 'Father of the Bride Col...</td>\n",
       "      <td>0</td>\n",
       "      <td>[{'id': 35, 'name': 'Comedy'}]</td>\n",
       "      <td>NaN</td>\n",
       "      <td>11862</td>\n",
       "      <td>tt0113041</td>\n",
       "      <td>en</td>\n",
       "      <td>Father of the Bride Part II</td>\n",
       "      <td>Just when George Banks has recovered from his ...</td>\n",
       "      <td>...</td>\n",
       "      <td>106.0</td>\n",
       "      <td>[{'iso_639_1': 'en', 'name': 'English'}]</td>\n",
       "      <td>Released</td>\n",
       "      <td>Just When His World Is Back To Normal... He's ...</td>\n",
       "      <td>Father of the Bride Part II</td>\n",
       "      <td>False</td>\n",
       "      <td>5.7</td>\n",
       "      <td>173.0</td>\n",
       "      <td>[{'id': 1009, 'name': 'baby'}, {'id': 1599, 'n...</td>\n",
       "      <td>[{'cast_id': 1, 'character': 'George Banks', '...</td>\n",
       "    </tr>\n",
       "    <tr>\n",
       "      <th>4</th>\n",
       "      <td>False</td>\n",
       "      <td>NaN</td>\n",
       "      <td>60000000</td>\n",
       "      <td>[{'id': 28, 'name': 'Action'}, {'id': 80, 'nam...</td>\n",
       "      <td>NaN</td>\n",
       "      <td>949</td>\n",
       "      <td>tt0113277</td>\n",
       "      <td>en</td>\n",
       "      <td>Heat</td>\n",
       "      <td>Obsessive master thief, Neil McCauley leads a ...</td>\n",
       "      <td>...</td>\n",
       "      <td>170.0</td>\n",
       "      <td>[{'iso_639_1': 'en', 'name': 'English'}, {'iso...</td>\n",
       "      <td>Released</td>\n",
       "      <td>A Los Angeles Crime Saga</td>\n",
       "      <td>Heat</td>\n",
       "      <td>False</td>\n",
       "      <td>7.7</td>\n",
       "      <td>1886.0</td>\n",
       "      <td>[{'id': 642, 'name': 'robbery'}, {'id': 703, '...</td>\n",
       "      <td>[{'cast_id': 25, 'character': 'Lt. Vincent Han...</td>\n",
       "    </tr>\n",
       "  </tbody>\n",
       "</table>\n",
       "<p>5 rows × 26 columns</p>\n",
       "</div>"
      ],
      "text/plain": [
       "   adult                              belongs_to_collection    budget  \\\n",
       "0  False  {'id': 10194, 'name': 'Toy Story Collection', ...  30000000   \n",
       "1  False                                                NaN  65000000   \n",
       "2  False  {'id': 119050, 'name': 'Grumpy Old Men Collect...         0   \n",
       "3  False  {'id': 96871, 'name': 'Father of the Bride Col...         0   \n",
       "4  False                                                NaN  60000000   \n",
       "\n",
       "                                              genres  \\\n",
       "0  [{'id': 16, 'name': 'Animation'}, {'id': 35, '...   \n",
       "1  [{'id': 12, 'name': 'Adventure'}, {'id': 14, '...   \n",
       "2  [{'id': 10749, 'name': 'Romance'}, {'id': 35, ...   \n",
       "3                     [{'id': 35, 'name': 'Comedy'}]   \n",
       "4  [{'id': 28, 'name': 'Action'}, {'id': 80, 'nam...   \n",
       "\n",
       "                               homepage     id    imdb_id original_language  \\\n",
       "0  http://toystory.disney.com/toy-story    862  tt0114709                en   \n",
       "1                                   NaN   8844  tt0113497                en   \n",
       "2                                   NaN  15602  tt0113228                en   \n",
       "3                                   NaN  11862  tt0113041                en   \n",
       "4                                   NaN    949  tt0113277                en   \n",
       "\n",
       "                original_title  \\\n",
       "0                    Toy Story   \n",
       "1                      Jumanji   \n",
       "2             Grumpier Old Men   \n",
       "3  Father of the Bride Part II   \n",
       "4                         Heat   \n",
       "\n",
       "                                            overview  ... runtime  \\\n",
       "0  Led by Woody, Andy's toys live happily in his ...  ...    81.0   \n",
       "1  When siblings Judy and Peter discover an encha...  ...   104.0   \n",
       "2  A family wedding reignites the ancient feud be...  ...   101.0   \n",
       "3  Just when George Banks has recovered from his ...  ...   106.0   \n",
       "4  Obsessive master thief, Neil McCauley leads a ...  ...   170.0   \n",
       "\n",
       "                                    spoken_languages    status  \\\n",
       "0           [{'iso_639_1': 'en', 'name': 'English'}]  Released   \n",
       "1  [{'iso_639_1': 'en', 'name': 'English'}, {'iso...  Released   \n",
       "2           [{'iso_639_1': 'en', 'name': 'English'}]  Released   \n",
       "3           [{'iso_639_1': 'en', 'name': 'English'}]  Released   \n",
       "4  [{'iso_639_1': 'en', 'name': 'English'}, {'iso...  Released   \n",
       "\n",
       "                                             tagline  \\\n",
       "0                                                NaN   \n",
       "1          Roll the dice and unleash the excitement!   \n",
       "2  Still Yelling. Still Fighting. Still Ready for...   \n",
       "3  Just When His World Is Back To Normal... He's ...   \n",
       "4                           A Los Angeles Crime Saga   \n",
       "\n",
       "                         title  video  vote_average vote_count  \\\n",
       "0                    Toy Story  False           7.7     5415.0   \n",
       "1                      Jumanji  False           6.9     2413.0   \n",
       "2             Grumpier Old Men  False           6.5       92.0   \n",
       "3  Father of the Bride Part II  False           5.7      173.0   \n",
       "4                         Heat  False           7.7     1886.0   \n",
       "\n",
       "                                            keywords  \\\n",
       "0  [{'id': 931, 'name': 'jealousy'}, {'id': 4290,...   \n",
       "1  [{'id': 10090, 'name': 'board game'}, {'id': 1...   \n",
       "2  [{'id': 1495, 'name': 'fishing'}, {'id': 12392...   \n",
       "3  [{'id': 1009, 'name': 'baby'}, {'id': 1599, 'n...   \n",
       "4  [{'id': 642, 'name': 'robbery'}, {'id': 703, '...   \n",
       "\n",
       "                                                cast  \n",
       "0  [{'cast_id': 14, 'character': 'Woody (voice)',...  \n",
       "1  [{'cast_id': 1, 'character': 'Alan Parrish', '...  \n",
       "2  [{'cast_id': 2, 'character': 'Max Goldman', 'c...  \n",
       "3  [{'cast_id': 1, 'character': 'George Banks', '...  \n",
       "4  [{'cast_id': 25, 'character': 'Lt. Vincent Han...  \n",
       "\n",
       "[5 rows x 26 columns]"
      ]
     },
     "execution_count": 10,
     "metadata": {},
     "output_type": "execute_result"
    }
   ],
   "source": [
    "df.head()"
   ]
  },
  {
   "cell_type": "code",
   "execution_count": 11,
   "id": "04b03a7c",
   "metadata": {
    "execution": {
     "iopub.execute_input": "2022-08-14T05:58:48.864963Z",
     "iopub.status.busy": "2022-08-14T05:58:48.864416Z",
     "iopub.status.idle": "2022-08-14T05:58:48.869755Z",
     "shell.execute_reply": "2022-08-14T05:58:48.869001Z"
    },
    "papermill": {
     "duration": 0.01651,
     "end_time": "2022-08-14T05:58:48.871694",
     "exception": false,
     "start_time": "2022-08-14T05:58:48.855184",
     "status": "completed"
    },
    "tags": []
   },
   "outputs": [
    {
     "data": {
      "text/plain": [
       "(8770, 26)"
      ]
     },
     "execution_count": 11,
     "metadata": {},
     "output_type": "execute_result"
    }
   ],
   "source": [
    "df.shape"
   ]
  },
  {
   "cell_type": "code",
   "execution_count": 12,
   "id": "1ca8d988",
   "metadata": {
    "execution": {
     "iopub.execute_input": "2022-08-14T05:58:48.890216Z",
     "iopub.status.busy": "2022-08-14T05:58:48.889507Z",
     "iopub.status.idle": "2022-08-14T05:58:48.923509Z",
     "shell.execute_reply": "2022-08-14T05:58:48.922268Z"
    },
    "papermill": {
     "duration": 0.046024,
     "end_time": "2022-08-14T05:58:48.925960",
     "exception": false,
     "start_time": "2022-08-14T05:58:48.879936",
     "status": "completed"
    },
    "tags": []
   },
   "outputs": [
    {
     "name": "stdout",
     "output_type": "stream",
     "text": [
      "<class 'pandas.core.frame.DataFrame'>\n",
      "RangeIndex: 8770 entries, 0 to 8769\n",
      "Data columns (total 26 columns):\n",
      " #   Column                 Non-Null Count  Dtype  \n",
      "---  ------                 --------------  -----  \n",
      " 0   adult                  8770 non-null   object \n",
      " 1   belongs_to_collection  1955 non-null   object \n",
      " 2   budget                 8770 non-null   object \n",
      " 3   genres                 8770 non-null   object \n",
      " 4   homepage               2727 non-null   object \n",
      " 5   id                     8770 non-null   int64  \n",
      " 6   imdb_id                8770 non-null   object \n",
      " 7   original_language      8770 non-null   object \n",
      " 8   original_title         8770 non-null   object \n",
      " 9   overview               8735 non-null   object \n",
      " 10  popularity             8770 non-null   object \n",
      " 11  poster_path            8770 non-null   object \n",
      " 12  production_companies   8770 non-null   object \n",
      " 13  production_countries   8770 non-null   object \n",
      " 14  release_date           8769 non-null   object \n",
      " 15  revenue                8770 non-null   float64\n",
      " 16  runtime                8769 non-null   float64\n",
      " 17  spoken_languages       8770 non-null   object \n",
      " 18  status                 8769 non-null   object \n",
      " 19  tagline                6887 non-null   object \n",
      " 20  title                  8770 non-null   object \n",
      " 21  video                  8770 non-null   object \n",
      " 22  vote_average           8770 non-null   float64\n",
      " 23  vote_count             8770 non-null   float64\n",
      " 24  keywords               8770 non-null   object \n",
      " 25  cast                   8770 non-null   object \n",
      "dtypes: float64(4), int64(1), object(21)\n",
      "memory usage: 1.7+ MB\n"
     ]
    }
   ],
   "source": [
    "df.info()"
   ]
  },
  {
   "cell_type": "code",
   "execution_count": 13,
   "id": "c5711f4d",
   "metadata": {
    "execution": {
     "iopub.execute_input": "2022-08-14T05:58:48.944837Z",
     "iopub.status.busy": "2022-08-14T05:58:48.944220Z",
     "iopub.status.idle": "2022-08-14T05:58:48.968460Z",
     "shell.execute_reply": "2022-08-14T05:58:48.967269Z"
    },
    "papermill": {
     "duration": 0.036275,
     "end_time": "2022-08-14T05:58:48.970796",
     "exception": false,
     "start_time": "2022-08-14T05:58:48.934521",
     "status": "completed"
    },
    "tags": []
   },
   "outputs": [
    {
     "data": {
      "text/plain": [
       "adult                       0\n",
       "belongs_to_collection    6815\n",
       "budget                      0\n",
       "genres                      0\n",
       "homepage                 6043\n",
       "id                          0\n",
       "imdb_id                     0\n",
       "original_language           0\n",
       "original_title              0\n",
       "overview                   35\n",
       "popularity                  0\n",
       "poster_path                 0\n",
       "production_companies        0\n",
       "production_countries        0\n",
       "release_date                1\n",
       "revenue                     0\n",
       "runtime                     1\n",
       "spoken_languages            0\n",
       "status                      1\n",
       "tagline                  1883\n",
       "title                       0\n",
       "video                       0\n",
       "vote_average                0\n",
       "vote_count                  0\n",
       "keywords                    0\n",
       "cast                        0\n",
       "dtype: int64"
      ]
     },
     "execution_count": 13,
     "metadata": {},
     "output_type": "execute_result"
    }
   ],
   "source": [
    "df.isnull().sum()"
   ]
  },
  {
   "cell_type": "code",
   "execution_count": 14,
   "id": "9b4e9661",
   "metadata": {
    "execution": {
     "iopub.execute_input": "2022-08-14T05:58:48.990576Z",
     "iopub.status.busy": "2022-08-14T05:58:48.989775Z",
     "iopub.status.idle": "2022-08-14T05:58:53.807099Z",
     "shell.execute_reply": "2022-08-14T05:58:53.805961Z"
    },
    "papermill": {
     "duration": 4.830205,
     "end_time": "2022-08-14T05:58:53.809905",
     "exception": false,
     "start_time": "2022-08-14T05:58:48.979700",
     "status": "completed"
    },
    "tags": []
   },
   "outputs": [],
   "source": [
    "df['genres'] = df['genres'].apply(lambda x: [i['name'] for i in eval(x)])\n",
    "df['genres'] = df['genres'].apply(lambda x: ' '.join([i.replace(\" \",\"\") for i in x]))\n",
    "df['keywords'] = df['keywords'].apply(lambda x: [i['name'] for i in eval(x)])\n",
    "df['keywords'] = df['keywords'].apply(lambda x: ' '.join([i.replace(\" \",'') for i in x]))\n",
    "df['cast'] = df['cast'].apply(lambda x: [i['name'] for i in eval(x)])\n",
    "df['cast'] = df['cast'].apply(lambda x: ' '.join([i.replace(\" \",'') for i in x]))"
   ]
  },
  {
   "cell_type": "code",
   "execution_count": 15,
   "id": "8c7c9ecd",
   "metadata": {
    "execution": {
     "iopub.execute_input": "2022-08-14T05:58:53.829393Z",
     "iopub.status.busy": "2022-08-14T05:58:53.828640Z",
     "iopub.status.idle": "2022-08-14T05:58:53.833727Z",
     "shell.execute_reply": "2022-08-14T05:58:53.832590Z"
    },
    "papermill": {
     "duration": 0.017159,
     "end_time": "2022-08-14T05:58:53.835936",
     "exception": false,
     "start_time": "2022-08-14T05:58:53.818777",
     "status": "completed"
    },
    "tags": []
   },
   "outputs": [],
   "source": [
    "selected_features=['genres','title','tagline','keywords','cast','production_companies']"
   ]
  },
  {
   "cell_type": "code",
   "execution_count": 16,
   "id": "65898057",
   "metadata": {
    "execution": {
     "iopub.execute_input": "2022-08-14T05:58:53.853886Z",
     "iopub.status.busy": "2022-08-14T05:58:53.853524Z",
     "iopub.status.idle": "2022-08-14T05:58:53.867003Z",
     "shell.execute_reply": "2022-08-14T05:58:53.866124Z"
    },
    "papermill": {
     "duration": 0.024821,
     "end_time": "2022-08-14T05:58:53.869139",
     "exception": false,
     "start_time": "2022-08-14T05:58:53.844318",
     "status": "completed"
    },
    "tags": []
   },
   "outputs": [],
   "source": [
    "for feature in selected_features:\n",
    "    df[feature]=df[feature].fillna('')"
   ]
  },
  {
   "cell_type": "code",
   "execution_count": 17,
   "id": "1aae2a61",
   "metadata": {
    "execution": {
     "iopub.execute_input": "2022-08-14T05:58:53.888103Z",
     "iopub.status.busy": "2022-08-14T05:58:53.887737Z",
     "iopub.status.idle": "2022-08-14T05:58:53.912971Z",
     "shell.execute_reply": "2022-08-14T05:58:53.911931Z"
    },
    "papermill": {
     "duration": 0.0374,
     "end_time": "2022-08-14T05:58:53.915251",
     "exception": false,
     "start_time": "2022-08-14T05:58:53.877851",
     "status": "completed"
    },
    "tags": []
   },
   "outputs": [],
   "source": [
    "cmf=df['genres']+' '+df['title']+' '+df['tagline']+' '+df['keywords']+' '+df['cast']+' '+df['production_companies']"
   ]
  },
  {
   "cell_type": "code",
   "execution_count": 18,
   "id": "5f414ec2",
   "metadata": {
    "execution": {
     "iopub.execute_input": "2022-08-14T05:58:53.933973Z",
     "iopub.status.busy": "2022-08-14T05:58:53.933602Z",
     "iopub.status.idle": "2022-08-14T05:58:53.941709Z",
     "shell.execute_reply": "2022-08-14T05:58:53.940713Z"
    },
    "papermill": {
     "duration": 0.020373,
     "end_time": "2022-08-14T05:58:53.944196",
     "exception": false,
     "start_time": "2022-08-14T05:58:53.923823",
     "status": "completed"
    },
    "tags": []
   },
   "outputs": [
    {
     "data": {
      "text/plain": [
       "0       Animation Comedy Family Toy Story  jealousy to...\n",
       "1       Adventure Fantasy Family Jumanji Roll the dice...\n",
       "2       Romance Comedy Grumpier Old Men Still Yelling....\n",
       "3       Comedy Father of the Bride Part II Just When H...\n",
       "4       Action Crime Drama Thriller Heat A Los Angeles...\n",
       "                              ...                        \n",
       "8765    Comedy With Open Arms Thanks for the invitatio...\n",
       "8766    Comedy The Visitors: Bastille Day  nazis castl...\n",
       "8767    Action Adventure Thriller Titanic 2 100 years ...\n",
       "8768    Family Animation Romance Comedy In a Heartbeat...\n",
       "8769    Comedy Cadet Kelly Too Cool For The Rules! mil...\n",
       "Length: 8770, dtype: object"
      ]
     },
     "execution_count": 18,
     "metadata": {},
     "output_type": "execute_result"
    }
   ],
   "source": [
    "cmf"
   ]
  },
  {
   "cell_type": "code",
   "execution_count": 19,
   "id": "ef6d63f1",
   "metadata": {
    "execution": {
     "iopub.execute_input": "2022-08-14T05:58:53.963237Z",
     "iopub.status.busy": "2022-08-14T05:58:53.962790Z",
     "iopub.status.idle": "2022-08-14T05:58:53.967437Z",
     "shell.execute_reply": "2022-08-14T05:58:53.966427Z"
    },
    "papermill": {
     "duration": 0.016575,
     "end_time": "2022-08-14T05:58:53.969482",
     "exception": false,
     "start_time": "2022-08-14T05:58:53.952907",
     "status": "completed"
    },
    "tags": []
   },
   "outputs": [],
   "source": [
    "# converting text data into feature vectors\n",
    "vec=TfidfVectorizer(max_features=5000)"
   ]
  },
  {
   "cell_type": "code",
   "execution_count": 20,
   "id": "6ef5dd39",
   "metadata": {
    "execution": {
     "iopub.execute_input": "2022-08-14T05:58:53.988279Z",
     "iopub.status.busy": "2022-08-14T05:58:53.987941Z",
     "iopub.status.idle": "2022-08-14T05:58:54.903650Z",
     "shell.execute_reply": "2022-08-14T05:58:54.902583Z"
    },
    "papermill": {
     "duration": 0.928442,
     "end_time": "2022-08-14T05:58:54.906531",
     "exception": false,
     "start_time": "2022-08-14T05:58:53.978089",
     "status": "completed"
    },
    "tags": []
   },
   "outputs": [],
   "source": [
    "feature_vec=vec.fit_transform(cmf)"
   ]
  },
  {
   "cell_type": "code",
   "execution_count": 21,
   "id": "6ab51da2",
   "metadata": {
    "execution": {
     "iopub.execute_input": "2022-08-14T05:58:54.926443Z",
     "iopub.status.busy": "2022-08-14T05:58:54.925499Z",
     "iopub.status.idle": "2022-08-14T05:58:54.933036Z",
     "shell.execute_reply": "2022-08-14T05:58:54.932145Z"
    },
    "papermill": {
     "duration": 0.020175,
     "end_time": "2022-08-14T05:58:54.935792",
     "exception": false,
     "start_time": "2022-08-14T05:58:54.915617",
     "status": "completed"
    },
    "tags": []
   },
   "outputs": [
    {
     "name": "stdout",
     "output_type": "stream",
     "text": [
      "  (0, 2213)\t0.03496716395552374\n",
      "  (0, 4384)\t0.1393798200513308\n",
      "  (0, 3663)\t0.21028258722881576\n",
      "  (0, 3342)\t0.03496716395552374\n",
      "  (0, 2808)\t0.23827558043103225\n",
      "  (0, 2793)\t0.24511785385613805\n",
      "  (0, 2533)\t0.22549964906860906\n",
      "  (0, 4821)\t0.21875438004329986\n",
      "  (0, 1465)\t0.25368692783085006\n",
      "  (0, 4552)\t0.23827558043103225\n",
      "  (0, 4590)\t0.20829579089740122\n",
      "  (0, 4628)\t0.24706678563781934\n",
      "  (0, 3918)\t0.20894527764953538\n",
      "  (0, 1842)\t0.17849856662339691\n",
      "  (0, 1843)\t0.1611884949873595\n",
      "  (0, 798)\t0.188758098599538\n",
      "  (0, 2400)\t0.18986404496011977\n",
      "  (0, 4367)\t0.14512239477880506\n",
      "  (0, 4627)\t0.4735198152733421\n",
      "  (0, 1690)\t0.10369928245485745\n",
      "  (0, 1148)\t0.06912244167230275\n",
      "  (0, 481)\t0.24247374048126044\n",
      "  (1, 8)\t0.2589342751897002\n",
      "  (1, 1157)\t0.21262138305977846\n",
      "  (1, 2275)\t0.2589342751897002\n",
      "  :\t:\n",
      "  (8768, 454)\t0.13474102603413757\n",
      "  (8768, 4513)\t0.138112445042015\n",
      "  (8768, 2213)\t0.042354273249964804\n",
      "  (8768, 3342)\t0.042354273249964804\n",
      "  (8768, 1690)\t0.12560663342628609\n",
      "  (8768, 1148)\t0.08372514242268106\n",
      "  (8768, 481)\t0.14684918504324462\n",
      "  (8769, 4078)\t0.29781447143043127\n",
      "  (8769, 157)\t0.2842054132217512\n",
      "  (8769, 2123)\t0.3053675732899504\n",
      "  (8769, 2658)\t0.30269391235491516\n",
      "  (8769, 1179)\t0.3082257662271168\n",
      "  (8769, 1888)\t0.2810171200043301\n",
      "  (8769, 4615)\t0.24657865344397517\n",
      "  (8769, 990)\t0.24526338849947835\n",
      "  (8769, 1431)\t0.3625245520249897\n",
      "  (8769, 4823)\t0.18471655644209306\n",
      "  (8769, 4486)\t0.20382888806928448\n",
      "  (8769, 4012)\t0.25805348628908087\n",
      "  (8769, 3738)\t0.09226520242861405\n",
      "  (8769, 1789)\t0.15555342673633601\n",
      "  (8769, 4513)\t0.06926866945089896\n",
      "  (8769, 2213)\t0.12745372016369863\n",
      "  (8769, 3342)\t0.12745372016369863\n",
      "  (8769, 1148)\t0.08398271732054075\n"
     ]
    }
   ],
   "source": [
    "print(feature_vec)"
   ]
  },
  {
   "cell_type": "code",
   "execution_count": 22,
   "id": "df1b259c",
   "metadata": {
    "execution": {
     "iopub.execute_input": "2022-08-14T05:58:54.956043Z",
     "iopub.status.busy": "2022-08-14T05:58:54.954950Z",
     "iopub.status.idle": "2022-08-14T05:58:59.205311Z",
     "shell.execute_reply": "2022-08-14T05:58:59.204288Z"
    },
    "papermill": {
     "duration": 4.262556,
     "end_time": "2022-08-14T05:58:59.207877",
     "exception": false,
     "start_time": "2022-08-14T05:58:54.945321",
     "status": "completed"
    },
    "tags": []
   },
   "outputs": [],
   "source": [
    "similarity=cosine_similarity(feature_vec)"
   ]
  },
  {
   "cell_type": "code",
   "execution_count": 23,
   "id": "114cc261",
   "metadata": {
    "execution": {
     "iopub.execute_input": "2022-08-14T05:58:59.227604Z",
     "iopub.status.busy": "2022-08-14T05:58:59.227187Z",
     "iopub.status.idle": "2022-08-14T05:58:59.233701Z",
     "shell.execute_reply": "2022-08-14T05:58:59.232565Z"
    },
    "papermill": {
     "duration": 0.01948,
     "end_time": "2022-08-14T05:58:59.236583",
     "exception": false,
     "start_time": "2022-08-14T05:58:59.217103",
     "status": "completed"
    },
    "tags": []
   },
   "outputs": [
    {
     "name": "stdout",
     "output_type": "stream",
     "text": [
      "[[1.         0.01939365 0.00866011 ... 0.00345618 0.05738169 0.01471848]\n",
      " [0.01939365 1.         0.01408909 ... 0.03513104 0.05644298 0.03713516]\n",
      " [0.00866011 0.01408909 1.         ... 0.00619127 0.03782561 0.03900451]\n",
      " ...\n",
      " [0.00345618 0.03513104 0.00619127 ... 1.         0.01531501 0.01817906]\n",
      " [0.05738169 0.05644298 0.03782561 ... 0.01531501 1.         0.02739475]\n",
      " [0.01471848 0.03713516 0.03900451 ... 0.01817906 0.02739475 1.        ]]\n"
     ]
    }
   ],
   "source": [
    "print(similarity)"
   ]
  },
  {
   "cell_type": "code",
   "execution_count": 24,
   "id": "472db5f6",
   "metadata": {
    "execution": {
     "iopub.execute_input": "2022-08-14T05:58:59.256910Z",
     "iopub.status.busy": "2022-08-14T05:58:59.256520Z",
     "iopub.status.idle": "2022-08-14T05:58:59.263290Z",
     "shell.execute_reply": "2022-08-14T05:58:59.262209Z"
    },
    "papermill": {
     "duration": 0.018877,
     "end_time": "2022-08-14T05:58:59.265417",
     "exception": false,
     "start_time": "2022-08-14T05:58:59.246540",
     "status": "completed"
    },
    "tags": []
   },
   "outputs": [
    {
     "data": {
      "text/plain": [
       "(8770, 8770)"
      ]
     },
     "execution_count": 24,
     "metadata": {},
     "output_type": "execute_result"
    }
   ],
   "source": [
    "similarity.shape"
   ]
  },
  {
   "cell_type": "code",
   "execution_count": 25,
   "id": "b9f1cfc0",
   "metadata": {
    "execution": {
     "iopub.execute_input": "2022-08-14T05:58:59.285030Z",
     "iopub.status.busy": "2022-08-14T05:58:59.284142Z",
     "iopub.status.idle": "2022-08-14T05:58:59.290669Z",
     "shell.execute_reply": "2022-08-14T05:58:59.289592Z"
    },
    "papermill": {
     "duration": 0.018809,
     "end_time": "2022-08-14T05:58:59.293074",
     "exception": false,
     "start_time": "2022-08-14T05:58:59.274265",
     "status": "completed"
    },
    "tags": []
   },
   "outputs": [],
   "source": [
    "def recommendation(movie_title):\n",
    "    id_of_movie = df[df['title']==movie_title].index[0]\n",
    "    similarity_score = similarity[id_of_movie]\n",
    "    movie_list = sorted(list(enumerate(similarity_score)), reverse=True, key=lambda x:x[1])[1:20]\n",
    "    for i in movie_list:\n",
    "        print(df.iloc[i[0]].title)"
   ]
  },
  {
   "cell_type": "code",
   "execution_count": 26,
   "id": "d587ee1b",
   "metadata": {
    "execution": {
     "iopub.execute_input": "2022-08-14T05:58:59.312576Z",
     "iopub.status.busy": "2022-08-14T05:58:59.312196Z",
     "iopub.status.idle": "2022-08-14T05:58:59.335370Z",
     "shell.execute_reply": "2022-08-14T05:58:59.333941Z"
    },
    "papermill": {
     "duration": 0.036013,
     "end_time": "2022-08-14T05:58:59.337879",
     "exception": false,
     "start_time": "2022-08-14T05:58:59.301866",
     "status": "completed"
    },
    "tags": []
   },
   "outputs": [
    {
     "name": "stdout",
     "output_type": "stream",
     "text": [
      "Death Note: The Last Name\n",
      "L: Change the World\n",
      "Battle of the Bulge\n",
      "Mirrormask\n",
      "Scooby-Doo! The Mystery Begins\n",
      "Rurouni Kenshin\n",
      "Battle Royale\n",
      "Berserk: The Golden Age Arc 2 - The Battle for Doldrey\n",
      "Deathtrap\n",
      "Running on Empty\n",
      "Confessions\n",
      "10,000 BC\n",
      "Gossip\n",
      "The Bad Seed\n",
      "On the Other Side of the Tracks\n",
      "Terminus\n",
      "Terminus\n",
      "Head Full of Honey\n",
      "Rurouni Kenshin: Kyoto Inferno\n"
     ]
    }
   ],
   "source": [
    "recommendation('Death Note')"
   ]
  },
  {
   "cell_type": "code",
   "execution_count": null,
   "id": "c080a8f9",
   "metadata": {
    "papermill": {
     "duration": 0.008683,
     "end_time": "2022-08-14T05:58:59.355638",
     "exception": false,
     "start_time": "2022-08-14T05:58:59.346955",
     "status": "completed"
    },
    "tags": []
   },
   "outputs": [],
   "source": []
  }
 ],
 "metadata": {
  "kernelspec": {
   "display_name": "Python 3",
   "language": "python",
   "name": "python3"
  },
  "language_info": {
   "codemirror_mode": {
    "name": "ipython",
    "version": 3
   },
   "file_extension": ".py",
   "mimetype": "text/x-python",
   "name": "python",
   "nbconvert_exporter": "python",
   "pygments_lexer": "ipython3",
   "version": "3.7.12"
  },
  "papermill": {
   "default_parameters": {},
   "duration": 27.120381,
   "end_time": "2022-08-14T05:59:00.085984",
   "environment_variables": {},
   "exception": null,
   "input_path": "__notebook__.ipynb",
   "output_path": "__notebook__.ipynb",
   "parameters": {},
   "start_time": "2022-08-14T05:58:32.965603",
   "version": "2.3.4"
  }
 },
 "nbformat": 4,
 "nbformat_minor": 5
}
